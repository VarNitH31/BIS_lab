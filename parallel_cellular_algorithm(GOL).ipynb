{
  "nbformat": 4,
  "nbformat_minor": 0,
  "metadata": {
    "colab": {
      "provenance": []
    },
    "kernelspec": {
      "name": "python3",
      "display_name": "Python 3"
    },
    "language_info": {
      "name": "python"
    }
  },
  "cells": [
    {
      "cell_type": "markdown",
      "source": [
        "Parallel cellular algorithm for game of life"
      ],
      "metadata": {
        "id": "VNKDKJBt7x2T"
      }
    },
    {
      "cell_type": "code",
      "source": [
        "import random\n",
        "import copy\n",
        "\n",
        "\n",
        "GRID_WIDTH = 10\n",
        "GRID_HEIGHT = 10\n",
        "MAX_GENERATIONS = 20\n",
        "\n",
        "\n",
        "def initialize_grid(width, height):\n",
        "    return [[random.randint(0, 1) for _ in range(width)] for _ in range(height)]\n",
        "\n",
        "\n",
        "def count_live_neighbors(grid, i, j):\n",
        "    live_neighbors = 0\n",
        "    directions = [(-1, -1), (-1, 0), (-1, 1),\n",
        "                  ( 0, -1),          ( 0, 1),\n",
        "                  ( 1, -1), ( 1, 0), ( 1, 1)]\n",
        "\n",
        "    for dx, dy in directions:\n",
        "        x = (i + dx) % len(grid)\n",
        "        y = (j + dy) % len(grid[0])\n",
        "        live_neighbors += grid[x][y]\n",
        "\n",
        "    return live_neighbors\n",
        "\n",
        "\n",
        "def apply_rules(grid, i, j):\n",
        "    live_neighbors = count_live_neighbors(grid, i, j)\n",
        "    if grid[i][j] == 1:\n",
        "        return 1 if live_neighbors == 2 or live_neighbors == 3 else 0\n",
        "    else:\n",
        "        return 1 if live_neighbors == 3 else 0\n",
        "\n",
        "\n",
        "def update_grid(grid):\n",
        "    new_grid = copy.deepcopy(grid)\n",
        "    for i in range(len(grid)):\n",
        "        for j in range(len(grid[0])):\n",
        "            new_grid[i][j] = apply_rules(grid, i, j)\n",
        "    return new_grid\n",
        "\n",
        "\n",
        "def display_grid(grid):\n",
        "    for row in grid:\n",
        "        print(' '.join(str(cell) for cell in row))\n",
        "    print(\"\\n\" + \"=\"*20 + \"\\n\")\n",
        "\n",
        "\n",
        "def count_alive_cells(grid):\n",
        "    return sum(sum(row) for row in grid)\n",
        "\n",
        "\n",
        "def game_of_life(grid_width, grid_height, max_generations):\n",
        "    grid = initialize_grid(grid_width, grid_height)\n",
        "    print(\"Initial Grid:\")\n",
        "    display_grid(grid)\n",
        "\n",
        "    for generation in range(max_generations):\n",
        "        print(f\"Generation {generation + 1}:\")\n",
        "        grid = update_grid(grid)\n",
        "        # display_grid(grid)\n",
        "        alive_cells = count_alive_cells(grid)\n",
        "        print(f\"Number of alive cells: {alive_cells}\")\n",
        "\n",
        "\n",
        "if __name__ == \"__main__\":\n",
        "    game_of_life(GRID_WIDTH, GRID_HEIGHT, MAX_GENERATIONS)\n"
      ],
      "metadata": {
        "colab": {
          "base_uri": "https://localhost:8080/"
        },
        "id": "wZ-qtm7s73rb",
        "outputId": "f535d4ab-340c-43d5-984b-c3e2971d8a1c"
      },
      "execution_count": 6,
      "outputs": [
        {
          "output_type": "stream",
          "name": "stdout",
          "text": [
            "Initial Grid:\n",
            "0 0 1 0 1 1 1 1 0 1\n",
            "0 0 0 0 0 0 1 0 0 1\n",
            "0 0 0 0 0 1 1 0 0 1\n",
            "1 0 1 0 1 0 0 1 1 1\n",
            "0 0 1 0 1 1 1 0 1 1\n",
            "1 1 1 0 1 1 1 0 1 0\n",
            "1 1 1 0 0 0 1 0 1 0\n",
            "1 0 1 1 1 1 1 0 1 1\n",
            "0 1 1 1 1 1 0 1 0 0\n",
            "1 1 1 1 1 0 0 1 0 0\n",
            "\n",
            "====================\n",
            "\n",
            "Generation 1:\n",
            "Number of alive cells: 20\n",
            "Generation 2:\n",
            "Number of alive cells: 26\n",
            "Generation 3:\n",
            "Number of alive cells: 24\n",
            "Generation 4:\n",
            "Number of alive cells: 27\n",
            "Generation 5:\n",
            "Number of alive cells: 28\n",
            "Generation 6:\n",
            "Number of alive cells: 27\n",
            "Generation 7:\n",
            "Number of alive cells: 39\n",
            "Generation 8:\n",
            "Number of alive cells: 27\n",
            "Generation 9:\n",
            "Number of alive cells: 44\n",
            "Generation 10:\n",
            "Number of alive cells: 27\n",
            "Generation 11:\n",
            "Number of alive cells: 34\n",
            "Generation 12:\n",
            "Number of alive cells: 21\n",
            "Generation 13:\n",
            "Number of alive cells: 21\n",
            "Generation 14:\n",
            "Number of alive cells: 23\n",
            "Generation 15:\n",
            "Number of alive cells: 25\n",
            "Generation 16:\n",
            "Number of alive cells: 25\n",
            "Generation 17:\n",
            "Number of alive cells: 28\n",
            "Generation 18:\n",
            "Number of alive cells: 23\n",
            "Generation 19:\n",
            "Number of alive cells: 26\n",
            "Generation 20:\n",
            "Number of alive cells: 26\n"
          ]
        }
      ]
    },
    {
      "cell_type": "code",
      "source": [],
      "metadata": {
        "id": "qVcGY8xFCgP7"
      },
      "execution_count": null,
      "outputs": []
    }
  ]
}