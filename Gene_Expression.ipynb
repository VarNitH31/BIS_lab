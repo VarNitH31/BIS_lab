{
 "cells": [
  {
   "cell_type": "code",
   "execution_count": 2,
   "id": "dcde2851-1345-4438-af7e-43111d062e20",
   "metadata": {},
   "outputs": [
    {
     "name": "stdout",
     "output_type": "stream",
     "text": [
      "Best solution: x = 1.00000, Minimum value: f(x) = 9.00000\n"
     ]
    }
   ],
   "source": [
    "import random\n",
    "\n",
    "# Objective function\n",
    "def objective_function(x):\n",
    "    return x**2 - 2*x + 10\n",
    "\n",
    "# Initialize population\n",
    "def initialize_population(pop_size, x_min, x_max):\n",
    "    return [random.uniform(x_min, x_max) for _ in range(pop_size)]\n",
    "\n",
    "# Evaluate fitness\n",
    "def evaluate_fitness(population):\n",
    "    return [objective_function(x) for x in population]\n",
    "\n",
    "# Selection: Tournament Selection\n",
    "def select_parents(population, fitness, tournament_size=3):\n",
    "    selected = []\n",
    "    for _ in range(len(population)):\n",
    "        competitors = random.sample(list(zip(population, fitness)), tournament_size)\n",
    "        winner = min(competitors, key=lambda x: x[1])\n",
    "        selected.append(winner[0])\n",
    "    return selected\n",
    "\n",
    "# Crossover: Arithmetic crossover\n",
    "def crossover(parents, crossover_rate=0.8):\n",
    "    offspring = []\n",
    "    for i in range(0, len(parents), 2):\n",
    "        p1, p2 = parents[i], parents[(i+1) % len(parents)]\n",
    "        if random.random() < crossover_rate:\n",
    "            alpha = random.random()\n",
    "            child1 = alpha * p1 + (1 - alpha) * p2\n",
    "            child2 = alpha * p2 + (1 - alpha) * p1\n",
    "        else:\n",
    "            child1, child2 = p1, p2\n",
    "        offspring.extend([child1, child2])\n",
    "    return offspring\n",
    "\n",
    "# Mutation: Add small random noise\n",
    "def mutate(offspring, mutation_rate=0.1, mutation_step=0.5):\n",
    "    for i in range(len(offspring)):\n",
    "        if random.random() < mutation_rate:\n",
    "            offspring[i] += random.uniform(-mutation_step, mutation_step)\n",
    "    return offspring\n",
    "\n",
    "# Gene Expression Algorithm\n",
    "def gene_expression_algorithm(pop_size, generations, x_min, x_max):\n",
    "    population = initialize_population(pop_size, x_min, x_max)\n",
    "    best_solution = None\n",
    "    best_fitness = float(\"inf\")\n",
    "\n",
    "    for gen in range(generations):\n",
    "        fitness = evaluate_fitness(population)\n",
    "        if min(fitness) < best_fitness:\n",
    "            best_fitness = min(fitness)\n",
    "            best_solution = population[fitness.index(best_fitness)]\n",
    "        \n",
    "        parents = select_parents(population, fitness)\n",
    "        offspring = crossover(parents)\n",
    "        population = mutate(offspring)\n",
    "    \n",
    "    return best_solution, best_fitness\n",
    "\n",
    "pop_size = 20\n",
    "generations = 100\n",
    "x_min, x_max = -10, 10\n",
    "\n",
    "best_x, best_fitness = gene_expression_algorithm(pop_size, generations, x_min, x_max)\n",
    "print(f\"Best solution: x = {best_x:.5f}, Minimum value: f(x) = {best_fitness:.5f}\")"
   ]
  },
  {
   "cell_type": "code",
   "execution_count": null,
   "id": "a8c182f8-e3f6-44db-89e4-6f11d61e1ec9",
   "metadata": {},
   "outputs": [],
   "source": []
  }
 ],
 "metadata": {
  "kernelspec": {
   "display_name": "Python 3 (ipykernel)",
   "language": "python",
   "name": "python3"
  },
  "language_info": {
   "codemirror_mode": {
    "name": "ipython",
    "version": 3
   },
   "file_extension": ".py",
   "mimetype": "text/x-python",
   "name": "python",
   "nbconvert_exporter": "python",
   "pygments_lexer": "ipython3",
   "version": "3.12.4"
  }
 },
 "nbformat": 4,
 "nbformat_minor": 5
}
